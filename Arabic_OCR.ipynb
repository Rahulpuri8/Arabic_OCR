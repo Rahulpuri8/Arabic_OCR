{
 "cells": [
  {
   "cell_type": "code",
   "execution_count": null,
   "metadata": {},
   "outputs": [],
   "source": [
    "!pip install ArabicOcr\n",
    "!pip install pdf2image Pillow\n"
   ]
  },
  {
   "cell_type": "code",
   "execution_count": null,
   "metadata": {},
   "outputs": [],
   "source": [
    "# !pip install pdf2image arabicocr Pillow opencv-python\n"
   ]
  },
  {
   "cell_type": "code",
   "execution_count": null,
   "metadata": {},
   "outputs": [],
   "source": [
    "!apt-get install -y poppler-utils"
   ]
  },
  {
   "cell_type": "markdown",
   "metadata": {},
   "source": [
    "## This Code (Extract Words)"
   ]
  },
  {
   "cell_type": "code",
   "execution_count": null,
   "metadata": {},
   "outputs": [],
   "source": [
    "\n",
    "\n",
    "# from pdf2image import convert_from_path\n",
    "# from ArabicOcr import arabicocr\n",
    "# import cv2\n",
    "# from PIL import Image\n",
    "# import numpy as np\n",
    "# import os"
   ]
  },
  {
   "cell_type": "code",
   "execution_count": null,
   "metadata": {},
   "outputs": [],
   "source": [
    "# # Define paths\n",
    "# pdf_path = 'PDF Files\\13.pdf'\n",
    "# output_dir = 'output_images_13'\n",
    "# results_file = 'file_13.txt'"
   ]
  },
  {
   "cell_type": "code",
   "execution_count": null,
   "metadata": {},
   "outputs": [],
   "source": [
    "# # Create directory for output images if it doesn't exist\n",
    "# if not os.path.exists(output_dir):\n",
    "#     os.makedirs(output_dir)\n",
    "\n",
    "# # Convert PDF to images\n",
    "# images = convert_from_path(pdf_path)\n",
    "\n",
    "# # Prepare a list to hold words from all pages\n",
    "# all_words = []\n",
    "\n",
    "# # Process each page\n",
    "# for i, image in enumerate(images):\n",
    "#     image_path = os.path.join(output_dir, f'page_{i+1}.jpg')\n",
    "#     image.save(image_path, 'JPEG')\n",
    "\n",
    "#     out_image_path = os.path.join(output_dir, f'out_{i+1}.jpg')\n",
    "#     results = arabicocr.arabic_ocr(image_path, out_image_path)\n",
    "\n",
    "#     # Extract words\n",
    "#     words = [result[1] for result in results]\n",
    "#     all_words.extend(words)\n",
    "\n",
    "#     # Read the image with OpenCV and display it\n",
    "#     img = cv2.imread(out_image_path, cv2.IMREAD_UNCHANGED)\n",
    "#     # Convert the image to RGB (OpenCV uses BGR by default)\n",
    "#     img_rgb = cv2.cvtColor(img, cv2.COLOR_BGR2RGB)\n",
    "#     # Display the image using PIL\n",
    "#     pil_img = Image.fromarray(img_rgb)\n",
    "#     pil_img.show()\n",
    "\n",
    "# # Save words to file\n",
    "# with open(results_file, 'w', encoding='utf-8') as myfile:\n",
    "#     myfile.write(str(all_words))"
   ]
  },
  {
   "cell_type": "markdown",
   "metadata": {},
   "source": [
    "## This Code (Extract Sentences)"
   ]
  },
  {
   "cell_type": "code",
   "execution_count": null,
   "metadata": {},
   "outputs": [],
   "source": [
    "# Install Tesseract OCR\n",
    "!apt-get update\n",
    "!apt-get install -y tesseract-ocr tesseract-ocr-ara\n",
    "\n",
    "# Install Python libraries\n",
    "!pip install pytesseract pdf2image Pillow opencv-python\n"
   ]
  },
  {
   "cell_type": "code",
   "execution_count": null,
   "metadata": {},
   "outputs": [],
   "source": [
    "from pdf2image import convert_from_path\n",
    "import pytesseract\n",
    "from PIL import Image\n",
    "import cv2\n",
    "import os\n",
    "import re"
   ]
  },
  {
   "cell_type": "code",
   "execution_count": null,
   "metadata": {},
   "outputs": [],
   "source": [
    "# Define input and output directories\n",
    "input_dir = 'PDF Files'  # Folder containing your PDFs\n",
    "output_dir = 'output_images'  # Folder to save images\n",
    "results_dir = 'output_texts'  # Folder to save extracted text"
   ]
  },
  {
   "cell_type": "code",
   "execution_count": null,
   "metadata": {},
   "outputs": [],
   "source": [
    "# Create directories for output images and results if they don't exist\n",
    "if not os.path.exists(output_dir):\n",
    "    os.makedirs(output_dir)\n",
    "if not os.path.exists(results_dir):\n",
    "    os.makedirs(results_dir)"
   ]
  },
  {
   "cell_type": "code",
   "execution_count": null,
   "metadata": {},
   "outputs": [],
   "source": [
    "# Function to process each PDF\n",
    "def process_pdf(pdf_path, output_image_dir, output_text_path):\n",
    "    # Convert PDF to images\n",
    "    images = convert_from_path(pdf_path)\n",
    "\n",
    "    # Prepare a list to hold words from all pages\n",
    "    all_words = []\n",
    "\n",
    "    # Process each page\n",
    "    for i, image in enumerate(images):\n",
    "        image_path = os.path.join(output_image_dir, f'page_{i+1}.jpg')\n",
    "        image.save(image_path, 'JPEG')\n",
    "\n",
    "        # Perform OCR using Tesseract with Arabic language\n",
    "        text = pytesseract.image_to_string(Image.open(image_path), lang='ara')\n",
    "\n",
    "        # Split the text into words\n",
    "        words = text.split()\n",
    "        all_words.extend(words)\n",
    "\n",
    "        # Read the image with OpenCV and display it\n",
    "        img = cv2.imread(image_path, cv2.IMREAD_UNCHANGED)\n",
    "        img_rgb = cv2.cvtColor(img, cv2.COLOR_BGR2RGB)\n",
    "        pil_img = Image.fromarray(img_rgb)\n",
    "        pil_img.show()\n",
    "\n",
    "    # Convert words to sentences\n",
    "    sentences = words_to_sentences(all_words)\n",
    "\n",
    "    # Save sentences to file\n",
    "    with open(output_text_path, 'w', encoding='utf-8') as myfile:\n",
    "        for sentence in sentences:\n",
    "            print('sentence: ', sentence)\n",
    "            myfile.write(sentence + '\\n')\n",
    "\n",
    "    print(f\"Text extraction for {pdf_path} complete.\")"
   ]
  },
  {
   "cell_type": "code",
   "execution_count": null,
   "metadata": {},
   "outputs": [],
   "source": [
    "# Function to join words into sentences\n",
    "def words_to_sentences(words):\n",
    "    text = ' '.join(words)\n",
    "    sentences = re.split(r'(?<!\\w\\.\\w.)(?<![A-Z][a-z]\\.)(?<=\\.|\\?)\\s', text)\n",
    "    return sentences"
   ]
  },
  {
   "cell_type": "code",
   "execution_count": null,
   "metadata": {},
   "outputs": [],
   "source": [
    "# Process all PDFs in the input directory\n",
    "for pdf_file in os.listdir(input_dir):\n",
    "    if pdf_file.endswith('.pdf'):\n",
    "        pdf_path = os.path.join(input_dir, pdf_file)\n",
    "        pdf_name = os.path.splitext(pdf_file)[0]\n",
    "\n",
    "        # Set output paths for images and text\n",
    "        output_image_dir = os.path.join(output_dir, pdf_name)\n",
    "        output_text_path = os.path.join(results_dir, f'{pdf_name}.txt')\n",
    "\n",
    "        # Create directory for output images for this PDF if it doesn't exist\n",
    "        if not os.path.exists(output_image_dir):\n",
    "            os.makedirs(output_image_dir)\n",
    "\n",
    "        # Process the PDF\n",
    "        process_pdf(pdf_path, output_image_dir, output_text_path)\n",
    "\n",
    "print(\"Processing of all PDFs complete.\")"
   ]
  },
  {
   "cell_type": "code",
   "execution_count": null,
   "metadata": {},
   "outputs": [],
   "source": []
  },
  {
   "cell_type": "code",
   "execution_count": null,
   "metadata": {},
   "outputs": [],
   "source": []
  },
  {
   "cell_type": "code",
   "execution_count": null,
   "metadata": {},
   "outputs": [],
   "source": []
  },
  {
   "cell_type": "code",
   "execution_count": null,
   "metadata": {},
   "outputs": [],
   "source": []
  }
 ],
 "metadata": {
  "language_info": {
   "name": "python"
  }
 },
 "nbformat": 4,
 "nbformat_minor": 2
}
